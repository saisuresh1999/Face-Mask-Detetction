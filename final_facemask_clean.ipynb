{
  "nbformat": 4,
  "nbformat_minor": 0,
  "metadata": {
    "colab": {
      "name": "final_facemask_clean.ipynb",
      "provenance": [],
      "authorship_tag": "ABX9TyMFD9V2BOxsgBWEAQvtO6qo",
      "include_colab_link": true
    },
    "kernelspec": {
      "name": "python3",
      "display_name": "Python 3"
    },
    "accelerator": "GPU"
  },
  "cells": [
    {
      "cell_type": "markdown",
      "metadata": {
        "id": "view-in-github",
        "colab_type": "text"
      },
      "source": [
        "<a href=\"https://colab.research.google.com/github/saisuresh1999/Face-Mask-Detetction/blob/master/final_facemask_clean.ipynb\" target=\"_parent\"><img src=\"https://colab.research.google.com/assets/colab-badge.svg\" alt=\"Open In Colab\"/></a>"
      ]
    },
    {
      "cell_type": "code",
      "metadata": {
        "id": "weDRvDV7GffU",
        "colab_type": "code",
        "colab": {
          "base_uri": "https://localhost:8080/",
          "height": 54
        },
        "outputId": "da54d4fc-34dc-4707-e9c3-1a9184f9cb48"
      },
      "source": [
        "from google.colab import drive\n",
        "drive.mount('/content/drive')"
      ],
      "execution_count": null,
      "outputs": [
        {
          "output_type": "stream",
          "text": [
            "Drive already mounted at /content/drive; to attempt to forcibly remount, call drive.mount(\"/content/drive\", force_remount=True).\n"
          ],
          "name": "stdout"
        }
      ]
    },
    {
      "cell_type": "code",
      "metadata": {
        "id": "FPcCtGoXGkfk",
        "colab_type": "code",
        "colab": {}
      },
      "source": [
        "from keras.models import load_model\n",
        "import cv2\n",
        "import numpy as np\n",
        "import keras\n",
        "from keras.utils import CustomObjectScope\n",
        "from keras.initializers import glorot_uniform\n",
        "from tensorflow.keras.models import load_model\n",
        "from time import sleep\n",
        "from keras.preprocessing.image import img_to_array\n",
        "from keras.preprocessing import image\n",
        "import cv2\n",
        "import numpy as np\n"
      ],
      "execution_count": null,
      "outputs": []
    },
    {
      "cell_type": "code",
      "metadata": {
        "id": "PpP1XnLKG_yQ",
        "colab_type": "code",
        "colab": {}
      },
      "source": [
        "from tensorflow.keras.models import load_model\n",
        "from time import sleep\n",
        "from keras.preprocessing.image import img_to_array\n",
        "from keras.preprocessing import image\n",
        "import cv2\n",
        "import numpy as np\n",
        "from google.colab.patches import cv2_imshow"
      ],
      "execution_count": null,
      "outputs": []
    },
    {
      "cell_type": "code",
      "metadata": {
        "id": "Wwmg8goOHHf3",
        "colab_type": "code",
        "colab": {}
      },
      "source": [
        "face_clsfr=cv2.CascadeClassifier('haarcascade_frontalface_default.xml')\n",
        "classifier =load_model('mask_detector.model')\n",
        "\n",
        "class_labels = ['Mask ON','NO Mask']\n",
        "cap = cv2.VideoCapture('test.mp4')\n",
        "outputFile = \"fina_final_output_fast_one.mp4\""
      ],
      "execution_count": null,
      "outputs": []
    },
    {
      "cell_type": "code",
      "metadata": {
        "id": "ugopVkbgHbVf",
        "colab_type": "code",
        "colab": {}
      },
      "source": [
        "fourcc = cv2.VideoWriter_fourcc('X','V','I','D')\n",
        "\n",
        "vid_writer = cv2.VideoWriter(outputFile, fourcc, 30.0, (1280,720))\n",
        "\n",
        "start_point = (15, 15)\n",
        "end_point = (300, 80) \n",
        "thickness = -1\n",
        "color_dict={'Mask ON':(0,255,0),'NO Mask':(0,0,255)}\n",
        "labels_dict={0:'Mask ON',1:'NO Mask'}"
      ],
      "execution_count": null,
      "outputs": []
    },
    {
      "cell_type": "code",
      "metadata": {
        "id": "l7tG_RAvHq4q",
        "colab_type": "code",
        "colab": {
          "base_uri": "https://localhost:8080/",
          "height": 71
        },
        "outputId": "3827dd69-c297-4d33-dcba-6ba6ae52d4ee"
      },
      "source": [
        "try:\n",
        "    while True:\n",
        "        # Grab a single frame of video\n",
        "        ret, frame = cap.read()\n",
        "        \n",
        "        grayy=cv2.cvtColor(frame,cv2.COLOR_BGR2GRAY)\n",
        "        faces=face_clsfr.detectMultiScale(grayy,1.3,5)\n",
        "    \n",
        "        for (x,y,w,h) in faces:\n",
        "            labels = []\n",
        "            try:\n",
        "                face_img=grayy[y:y+w,x:x+w]\n",
        "                gray = cv2.cvtColor(face_img,cv2.COLOR_GRAY2BGR)\n",
        "                gray = cv2.resize(gray,(224,224))\n",
        "                roi = gray.astype('float')/255.0\n",
        "                roi = img_to_array(roi)\n",
        "                #print(roi.shape)\n",
        "                roi = np.expand_dims(roi,axis=0)\n",
        "                #print(roi.shape)\n",
        "            except Exception as e:\n",
        "                print(\"inner: \",e)\n",
        "                #break\n",
        "            preds = classifier.predict(roi)[0]\n",
        "            #print(preds)\n",
        "            label=class_labels[preds.argmax()]\n",
        "            #print(label)\n",
        "            #print(color_dict[label])\n",
        "            \n",
        "            #label=np.argmax(preds,axis=1)[0]\n",
        "            #img = cv2.resize(frame, (1280,720))\n",
        "            cv2.rectangle(frame,(x,y),(x+w,y+h),color_dict[label],2)\n",
        "            #print(\"varala\")\n",
        "            #cv2_imshow(frame)\n",
        "            #print(\"varala1\")\n",
        "            cv2.rectangle(frame,(x,y-40),(x+w,y),color_dict[label],-1)\n",
        "            #print(\"varala2\")\n",
        "            cv2.putText(frame, label, (x, y-10),cv2.FONT_HERSHEY_SIMPLEX,0.8,(255,255,255),2)\n",
        "            #img = cv2.resize(frame, (1280,720))\n",
        "            #print(\"varala3\")\n",
        "        img = cv2.resize(frame, (1280,720))\n",
        "        vid_writer.write(img)\n",
        "            #print(\"varala4\")\n",
        "except Exception as e:\n",
        "    print(e)\n",
        "    \n",
        "vid_writer.release()\n",
        "cap.release()"
      ],
      "execution_count": null,
      "outputs": [
        {
          "output_type": "stream",
          "text": [
            "OpenCV(4.1.2) /io/opencv/modules/imgproc/src/color.cpp:182: error: (-215:Assertion failed) !_src.empty() in function 'cvtColor'\n",
            "\n"
          ],
          "name": "stdout"
        }
      ]
    },
    {
      "cell_type": "code",
      "metadata": {
        "id": "z901FGYhH3Cn",
        "colab_type": "code",
        "colab": {}
      },
      "source": [
        ""
      ],
      "execution_count": null,
      "outputs": []
    }
  ]
}