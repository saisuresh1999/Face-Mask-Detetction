{
  "nbformat": 4,
  "nbformat_minor": 0,
  "metadata": {
    "colab": {
      "name": "Face Mask Detection.ipynb",
      "provenance": [],
      "collapsed_sections": [],
      "mount_file_id": "1EysJy2sdZEW3apEMG1PZV0HzFTYW-SEs",
      "authorship_tag": "ABX9TyMtz2repOjT8rPpM3ydjccQ",
      "include_colab_link": true
    },
    "kernelspec": {
      "name": "python3",
      "display_name": "Python 3"
    },
    "accelerator": "GPU"
  },
  "cells": [
    {
      "cell_type": "markdown",
      "metadata": {
        "id": "view-in-github",
        "colab_type": "text"
      },
      "source": [
        "<a href=\"https://colab.research.google.com/github/saisuresh1999/Face-Mask-Detetction/blob/master/Face_Mask_Detection.ipynb\" target=\"_parent\"><img src=\"https://colab.research.google.com/assets/colab-badge.svg\" alt=\"Open In Colab\"/></a>"
      ]
    },
    {
      "cell_type": "code",
      "metadata": {
        "id": "OdgOiS6CHffq",
        "colab_type": "code",
        "colab": {
          "base_uri": "https://localhost:8080/",
          "height": 35
        },
        "outputId": "6a4ab84a-1333-4e59-a48c-dec6bf53a897"
      },
      "source": [
        "from google.colab import drive\n",
        "drive.mount('/content/drive')"
      ],
      "execution_count": 1,
      "outputs": [
        {
          "output_type": "stream",
          "text": [
            "Drive already mounted at /content/drive; to attempt to forcibly remount, call drive.mount(\"/content/drive\", force_remount=True).\n"
          ],
          "name": "stdout"
        }
      ]
    },
    {
      "cell_type": "code",
      "metadata": {
        "id": "fnp7DOZAPauG",
        "colab_type": "code",
        "colab": {}
      },
      "source": [
        "from tensorflow.keras.preprocessing.image import ImageDataGenerator\n",
        "from tensorflow.keras.applications import MobileNetV2\n",
        "from tensorflow.keras.layers import AveragePooling2D\n",
        "from tensorflow.keras.layers import Dropout\n",
        "from tensorflow.keras.layers import Flatten\n",
        "from tensorflow.keras.layers import Dense\n",
        "from tensorflow.keras.layers import Input\n",
        "from tensorflow.keras.models import Model\n",
        "from tensorflow.keras.optimizers import Adam\n",
        "from tensorflow.keras.applications.mobilenet_v2 import preprocess_input\n",
        "from tensorflow.keras.preprocessing.image import img_to_array\n",
        "from tensorflow.keras.preprocessing.image import load_img\n",
        "from tensorflow.keras.utils import to_categorical\n",
        "from sklearn.preprocessing import LabelBinarizer\n",
        "from sklearn.model_selection import train_test_split\n",
        "from sklearn.metrics import classification_report\n",
        "from imutils import paths\n",
        "import matplotlib.pyplot as plt\n",
        "import numpy as np\n",
        "import os\n"
      ],
      "execution_count": 2,
      "outputs": []
    },
    {
      "cell_type": "code",
      "metadata": {
        "id": "DDPl38gGPxbk",
        "colab_type": "code",
        "colab": {}
      },
      "source": [
        "INIT_LR = 1e-4\n",
        "EPOCHS = 20\n",
        "BS = 32"
      ],
      "execution_count": 3,
      "outputs": []
    },
    {
      "cell_type": "code",
      "metadata": {
        "id": "5yfK3M95PzeB",
        "colab_type": "code",
        "colab": {}
      },
      "source": [
        "DIRECTORY = r\"/content/drive/My Drive/face mask detection/dataset2\"\n",
        "CATEGORIES = [\"with_mask\", \"without_mask\"]\n"
      ],
      "execution_count": 4,
      "outputs": []
    },
    {
      "cell_type": "code",
      "metadata": {
        "id": "L_MAKlXtQAAC",
        "colab_type": "code",
        "colab": {
          "base_uri": "https://localhost:8080/",
          "height": 110
        },
        "outputId": "cdc1ad29-77bc-4100-a5fe-2c3594ce15e0"
      },
      "source": [
        "data = []\n",
        "labels = []\n",
        "\n",
        "for category in CATEGORIES:\n",
        "    path = os.path.join(DIRECTORY, category)\n",
        "    print(\"path\",path)\n",
        "    for img in os.listdir(path):\n",
        "      #print(\"img\",img)\n",
        "      img_path = os.path.join(path, img)\n",
        "      #print(\"img_path\",img_path)\n",
        "      image = load_img(img_path, target_size=(224, 224))\n",
        "      #print(type(image))\n",
        "      #print(\"image1\",image) #image1 <PIL.Image.Image image mode=RGB size=224x224 at 0x7F015B575940>\n",
        "      image = img_to_array(image)\n",
        "      #print(type(image))\n",
        "      #print(image.shape)\n",
        "      #print(image[0][0])\n",
        "      image = preprocess_input(image)\n",
        "      #print(image[0][0])\n",
        "      #print(type(image))\n",
        "      data.append(image)\n",
        "      labels.append(category)\n",
        "      #break\n",
        "#print(data)\n",
        "#print(len(data))\n",
        "#print(labels)\n",
        "#print(len(labels))"
      ],
      "execution_count": 5,
      "outputs": [
        {
          "output_type": "stream",
          "text": [
            "path /content/drive/My Drive/face mask detection/dataset2/with_mask\n"
          ],
          "name": "stdout"
        },
        {
          "output_type": "stream",
          "text": [
            "/usr/local/lib/python3.6/dist-packages/PIL/Image.py:932: UserWarning: Palette images with Transparency expressed in bytes should be converted to RGBA images\n",
            "  \"Palette images with Transparency expressed in bytes should be \"\n"
          ],
          "name": "stderr"
        },
        {
          "output_type": "stream",
          "text": [
            "path /content/drive/My Drive/face mask detection/dataset2/without_mask\n"
          ],
          "name": "stdout"
        }
      ]
    },
    {
      "cell_type": "code",
      "metadata": {
        "id": "6MwtuoMKQEwZ",
        "colab_type": "code",
        "colab": {}
      },
      "source": [
        "lb = LabelBinarizer()\n",
        "labels = lb.fit_transform(labels)\n",
        "#print(labels)\n",
        "labels = to_categorical(labels)\n",
        "#print(labels)\n",
        "data = np.array(data, dtype=\"float32\")\n",
        "labels = np.array(labels)\n",
        "#print(labels)\n",
        "\n"
      ],
      "execution_count": 6,
      "outputs": []
    },
    {
      "cell_type": "code",
      "metadata": {
        "id": "V_jp7d6qwhpT",
        "colab_type": "code",
        "colab": {}
      },
      "source": [
        "(trainX, testX, trainY, testY) = train_test_split(data, labels,test_size=0.20, stratify=labels, random_state=42)"
      ],
      "execution_count": 14,
      "outputs": []
    },
    {
      "cell_type": "code",
      "metadata": {
        "id": "6_CPIxu-fjj0",
        "colab_type": "code",
        "colab": {}
      },
      "source": [
        "aug = ImageDataGenerator(\n",
        "\trotation_range=20,\n",
        "\tzoom_range=0.15,\n",
        "\twidth_shift_range=0.2,\n",
        "\theight_shift_range=0.2,\n",
        "\tshear_range=0.15,\n",
        "\thorizontal_flip=True,\n",
        "\tfill_mode=\"nearest\")\n"
      ],
      "execution_count": 15,
      "outputs": []
    },
    {
      "cell_type": "code",
      "metadata": {
        "id": "C5s6Xfcufo34",
        "colab_type": "code",
        "colab": {
          "base_uri": "https://localhost:8080/",
          "height": 92
        },
        "outputId": "bf48517c-b35d-4219-cda4-041734b77573"
      },
      "source": [
        "baseModel = MobileNetV2(weights=\"imagenet\", include_top=False,input_tensor=Input(shape=(224, 224, 3)))"
      ],
      "execution_count": 8,
      "outputs": [
        {
          "output_type": "stream",
          "text": [
            "WARNING:tensorflow:`input_shape` is undefined or non-square, or `rows` is not in [96, 128, 160, 192, 224]. Weights for input shape (224, 224) will be loaded as the default.\n",
            "Downloading data from https://storage.googleapis.com/tensorflow/keras-applications/mobilenet_v2/mobilenet_v2_weights_tf_dim_ordering_tf_kernels_1.0_224_no_top.h5\n",
            "9412608/9406464 [==============================] - 0s 0us/step\n"
          ],
          "name": "stdout"
        }
      ]
    },
    {
      "cell_type": "code",
      "metadata": {
        "id": "_IDP1YKEfrnI",
        "colab_type": "code",
        "colab": {}
      },
      "source": [
        "headModel = baseModel.output\n",
        "headModel = AveragePooling2D(pool_size=(7, 7))(headModel)\n",
        "headModel = Flatten(name=\"flatten\")(headModel)\n",
        "headModel = Dense(128, activation=\"relu\")(headModel)\n",
        "headModel = Dropout(0.5)(headModel)\n",
        "headModel = Dense(2, activation=\"softmax\")(headModel)\n"
      ],
      "execution_count": 9,
      "outputs": []
    },
    {
      "cell_type": "code",
      "metadata": {
        "id": "4kuG1jHlfudw",
        "colab_type": "code",
        "colab": {}
      },
      "source": [
        "model = Model(inputs=baseModel.input, outputs=headModel)"
      ],
      "execution_count": 10,
      "outputs": []
    },
    {
      "cell_type": "code",
      "metadata": {
        "id": "PnFjF2EIfwpA",
        "colab_type": "code",
        "colab": {}
      },
      "source": [
        "for layer in baseModel.layers:\n",
        "\tlayer.trainable = False"
      ],
      "execution_count": 11,
      "outputs": []
    },
    {
      "cell_type": "code",
      "metadata": {
        "id": "6NLQPS0MfyCw",
        "colab_type": "code",
        "colab": {
          "base_uri": "https://localhost:8080/",
          "height": 35
        },
        "outputId": "3f9b9b0c-a02d-4899-d9dc-74ea33d0fee8"
      },
      "source": [
        "print(\"[INFO] compiling model...\")\n",
        "opt = Adam(lr=INIT_LR, decay=INIT_LR / EPOCHS)\n",
        "model.compile(loss=\"binary_crossentropy\", optimizer=opt,metrics=[\"accuracy\"])"
      ],
      "execution_count": 12,
      "outputs": [
        {
          "output_type": "stream",
          "text": [
            "[INFO] compiling model...\n"
          ],
          "name": "stdout"
        }
      ]
    },
    {
      "cell_type": "code",
      "metadata": {
        "id": "LdHgT4uKf0SA",
        "colab_type": "code",
        "colab": {
          "base_uri": "https://localhost:8080/",
          "height": 783
        },
        "outputId": "4f05b6b4-9e6e-4e77-b70e-dc82a8a9cbe2"
      },
      "source": [
        "print(\"[INFO] training head...\")\n",
        "H = model.fit(\n",
        "\taug.flow(trainX, trainY, batch_size=BS),\n",
        "\tsteps_per_epoch=len(trainX) // BS,\n",
        "\tvalidation_data=(testX, testY),\n",
        "\tvalidation_steps=len(testX) // BS,\n",
        "\tepochs=EPOCHS)"
      ],
      "execution_count": 16,
      "outputs": [
        {
          "output_type": "stream",
          "text": [
            "[INFO] training head...\n",
            "Epoch 1/20\n",
            "95/95 [==============================] - 33s 344ms/step - loss: 0.3480 - accuracy: 0.8464 - val_loss: 0.0992 - val_accuracy: 0.9817\n",
            "Epoch 2/20\n",
            "95/95 [==============================] - 32s 333ms/step - loss: 0.1175 - accuracy: 0.9618 - val_loss: 0.0598 - val_accuracy: 0.9870\n",
            "Epoch 3/20\n",
            "95/95 [==============================] - 32s 334ms/step - loss: 0.0780 - accuracy: 0.9776 - val_loss: 0.0471 - val_accuracy: 0.9883\n",
            "Epoch 4/20\n",
            "95/95 [==============================] - 32s 333ms/step - loss: 0.0764 - accuracy: 0.9723 - val_loss: 0.0414 - val_accuracy: 0.9870\n",
            "Epoch 5/20\n",
            "95/95 [==============================] - 32s 332ms/step - loss: 0.0608 - accuracy: 0.9802 - val_loss: 0.0331 - val_accuracy: 0.9961\n",
            "Epoch 6/20\n",
            "95/95 [==============================] - 31s 328ms/step - loss: 0.0527 - accuracy: 0.9848 - val_loss: 0.0296 - val_accuracy: 0.9948\n",
            "Epoch 7/20\n",
            "95/95 [==============================] - 31s 330ms/step - loss: 0.0480 - accuracy: 0.9819 - val_loss: 0.0298 - val_accuracy: 0.9896\n",
            "Epoch 8/20\n",
            "95/95 [==============================] - 31s 328ms/step - loss: 0.0447 - accuracy: 0.9842 - val_loss: 0.0262 - val_accuracy: 0.9948\n",
            "Epoch 9/20\n",
            "95/95 [==============================] - 31s 328ms/step - loss: 0.0387 - accuracy: 0.9885 - val_loss: 0.0240 - val_accuracy: 0.9948\n",
            "Epoch 10/20\n",
            "95/95 [==============================] - 31s 327ms/step - loss: 0.0428 - accuracy: 0.9845 - val_loss: 0.0258 - val_accuracy: 0.9935\n",
            "Epoch 11/20\n",
            "95/95 [==============================] - 31s 330ms/step - loss: 0.0351 - accuracy: 0.9885 - val_loss: 0.0231 - val_accuracy: 0.9948\n",
            "Epoch 12/20\n",
            "95/95 [==============================] - 31s 329ms/step - loss: 0.0233 - accuracy: 0.9937 - val_loss: 0.0210 - val_accuracy: 0.9961\n",
            "Epoch 13/20\n",
            "95/95 [==============================] - 32s 332ms/step - loss: 0.0293 - accuracy: 0.9904 - val_loss: 0.0196 - val_accuracy: 0.9948\n",
            "Epoch 14/20\n",
            "95/95 [==============================] - 32s 332ms/step - loss: 0.0333 - accuracy: 0.9871 - val_loss: 0.0191 - val_accuracy: 0.9961\n",
            "Epoch 15/20\n",
            "95/95 [==============================] - 31s 331ms/step - loss: 0.0360 - accuracy: 0.9888 - val_loss: 0.0198 - val_accuracy: 0.9961\n",
            "Epoch 16/20\n",
            "95/95 [==============================] - 32s 333ms/step - loss: 0.0289 - accuracy: 0.9911 - val_loss: 0.0186 - val_accuracy: 0.9974\n",
            "Epoch 17/20\n",
            "95/95 [==============================] - 31s 330ms/step - loss: 0.0258 - accuracy: 0.9908 - val_loss: 0.0193 - val_accuracy: 0.9948\n",
            "Epoch 18/20\n",
            "95/95 [==============================] - 31s 329ms/step - loss: 0.0221 - accuracy: 0.9931 - val_loss: 0.0160 - val_accuracy: 0.9974\n",
            "Epoch 19/20\n",
            "95/95 [==============================] - 31s 331ms/step - loss: 0.0231 - accuracy: 0.9924 - val_loss: 0.0205 - val_accuracy: 0.9909\n",
            "Epoch 20/20\n",
            "95/95 [==============================] - 31s 330ms/step - loss: 0.0210 - accuracy: 0.9924 - val_loss: 0.0151 - val_accuracy: 0.9974\n"
          ],
          "name": "stdout"
        }
      ]
    },
    {
      "cell_type": "code",
      "metadata": {
        "id": "74urItzvf21_",
        "colab_type": "code",
        "colab": {
          "base_uri": "https://localhost:8080/",
          "height": 35
        },
        "outputId": "92a7a4de-d839-484a-b0b3-78becc107fba"
      },
      "source": [
        "# make predictions on the testing set\n",
        "print(\"[INFO] evaluating network...\")\n",
        "predIdxs = model.predict(testX, batch_size=BS)"
      ],
      "execution_count": 17,
      "outputs": [
        {
          "output_type": "stream",
          "text": [
            "[INFO] evaluating network...\n"
          ],
          "name": "stdout"
        }
      ]
    },
    {
      "cell_type": "code",
      "metadata": {
        "id": "g_lptPDOv6YN",
        "colab_type": "code",
        "colab": {
          "base_uri": "https://localhost:8080/",
          "height": 199
        },
        "outputId": "8fc9b715-8081-4b0c-a377-c897f90e0124"
      },
      "source": [
        "predIdxs = np.argmax(predIdxs, axis=1)\n",
        "\n",
        "# show a nicely formatted classification report\n",
        "print(classification_report(testY.argmax(axis=1), predIdxs,\n",
        "\ttarget_names=lb.classes_))\n",
        "\n",
        "# serialize the model to disk\n",
        "print(\"[INFO] saving mask detector model...\")\n",
        "model.save(\"mask_detector.model\", save_format=\"h5\")"
      ],
      "execution_count": 18,
      "outputs": [
        {
          "output_type": "stream",
          "text": [
            "              precision    recall  f1-score   support\n",
            "\n",
            "   with_mask       1.00      0.99      1.00       383\n",
            "without_mask       0.99      1.00      1.00       384\n",
            "\n",
            "    accuracy                           1.00       767\n",
            "   macro avg       1.00      1.00      1.00       767\n",
            "weighted avg       1.00      1.00      1.00       767\n",
            "\n",
            "[INFO] saving mask detector model...\n"
          ],
          "name": "stdout"
        }
      ]
    },
    {
      "cell_type": "code",
      "metadata": {
        "id": "vBkltue9v-zM",
        "colab_type": "code",
        "colab": {
          "base_uri": "https://localhost:8080/",
          "height": 299
        },
        "outputId": "5d25571d-dc9f-41dc-dd0f-cdc76bf91927"
      },
      "source": [
        "N = EPOCHS\n",
        "plt.style.use(\"ggplot\")\n",
        "plt.figure()\n",
        "plt.plot(np.arange(0, N), H.history[\"loss\"], label=\"train_loss\")\n",
        "plt.plot(np.arange(0, N), H.history[\"val_loss\"], label=\"val_loss\")\n",
        "plt.plot(np.arange(0, N), H.history[\"accuracy\"], label=\"train_acc\")\n",
        "plt.plot(np.arange(0, N), H.history[\"val_accuracy\"], label=\"val_acc\")\n",
        "plt.title(\"Training Loss and Accuracy\")\n",
        "plt.xlabel(\"Epoch #\")\n",
        "plt.ylabel(\"Loss/Accuracy\")\n",
        "plt.legend(loc=\"lower left\")\n",
        "plt.savefig(\"plot.png\")"
      ],
      "execution_count": 19,
      "outputs": [
        {
          "output_type": "display_data",
          "data": {
            "image/png": "[encoded data removed]",
            "text/plain": [
              "<Figure size 432x288 with 1 Axes>"
            ]
          },
          "metadata": {
            "tags": []
          }
        }
      ]
    },
    {
      "cell_type": "code",
      "metadata": {
        "id": "6DX_CmoOwBet",
        "colab_type": "code",
        "colab": {}
      },
      "source": [
        ""
      ],
      "execution_count": null,
      "outputs": []
    }
  ]
}